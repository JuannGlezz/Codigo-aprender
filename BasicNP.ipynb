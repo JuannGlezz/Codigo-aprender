{
  "nbformat": 4,
  "nbformat_minor": 0,
  "metadata": {
    "colab": {
      "provenance": [],
      "authorship_tag": "ABX9TyOJUNzi1MCbtwEXOcTuipE9"
    },
    "kernelspec": {
      "name": "python3",
      "display_name": "Python 3"
    },
    "language_info": {
      "name": "python"
    }
  },
  "cells": [
    {
      "cell_type": "code",
      "execution_count": 37,
      "metadata": {
        "colab": {
          "base_uri": "https://localhost:8080/"
        },
        "id": "YkCKLrZ_5cyY",
        "outputId": "7c1b3a1b-e707-47d2-fb00-9fb8c05ee9bc"
      },
      "outputs": [
        {
          "output_type": "stream",
          "name": "stdout",
          "text": [
            "[0. 0. 0. 0. 0. 0. 0. 0. 0. 0.]\n",
            "[1. 1. 1. 1. 1. 1. 1. 1. 1. 1.]\n",
            "[5. 5. 5. 5. 5. 5. 5. 5. 5. 5.]\n"
          ]
        }
      ],
      "source": [
        "import numpy as np\n",
        "print(np.zeros(10))\n",
        "#muestra 10 ceros\n",
        "print(np.ones(10))\n",
        "#Muestra 10 unos\n",
        "print(np.ones(10)*5)\n",
        "#igual con 5"
      ]
    },
    {
      "cell_type": "code",
      "source": [
        "print(np.arange(10,51))\n",
        "#Números del 10 al 50\n",
        "print(np.arange(10,51,2))\n",
        "#Números pares del 10 al 50"
      ],
      "metadata": {
        "colab": {
          "base_uri": "https://localhost:8080/"
        },
        "id": "iT8F7IcwTsaO",
        "outputId": "e9a1a108-59f2-4330-a9f1-ca846276561b"
      },
      "execution_count": 38,
      "outputs": [
        {
          "output_type": "stream",
          "name": "stdout",
          "text": [
            "[10 11 12 13 14 15 16 17 18 19 20 21 22 23 24 25 26 27 28 29 30 31 32 33\n",
            " 34 35 36 37 38 39 40 41 42 43 44 45 46 47 48 49 50]\n",
            "[10 12 14 16 18 20 22 24 26 28 30 32 34 36 38 40 42 44 46 48 50]\n"
          ]
        }
      ]
    },
    {
      "cell_type": "code",
      "source": [
        "print(np.arange(0,9).reshape(3,3))\n",
        "#matriz de 3x3 del 0 al 8\n",
        "print(np.eye(3))\n",
        "#Matriz de identidad 3x3\n",
        "print(np.random.rand(25))\n",
        "#25 números aleatorios\n",
        "print(np.linspace(0,10,20))\n",
        "#20 valores del 0 al 10"
      ],
      "metadata": {
        "colab": {
          "base_uri": "https://localhost:8080/"
        },
        "id": "NKIKBGp6TwT0",
        "outputId": "cbecac5a-bc68-4502-dc78-61b8a1a0e5cf"
      },
      "execution_count": 39,
      "outputs": [
        {
          "output_type": "stream",
          "name": "stdout",
          "text": [
            "[[0 1 2]\n",
            " [3 4 5]\n",
            " [6 7 8]]\n",
            "[[1. 0. 0.]\n",
            " [0. 1. 0.]\n",
            " [0. 0. 1.]]\n",
            "[0.14895384 0.12722959 0.51674144 0.66444991 0.52550445 0.88685147\n",
            " 0.08428942 0.98302264 0.32916044 0.15872488 0.3991885  0.69063469\n",
            " 0.79892312 0.06349586 0.10028667 0.04320406 0.16320088 0.30272575\n",
            " 0.04800871 0.55303934 0.1524886  0.17423019 0.7392528  0.41371644\n",
            " 0.7463792 ]\n",
            "[ 0.          0.52631579  1.05263158  1.57894737  2.10526316  2.63157895\n",
            "  3.15789474  3.68421053  4.21052632  4.73684211  5.26315789  5.78947368\n",
            "  6.31578947  6.84210526  7.36842105  7.89473684  8.42105263  8.94736842\n",
            "  9.47368421 10.        ]\n"
          ]
        }
      ]
    },
    {
      "cell_type": "code",
      "source": [
        "mat = np.arange(1,51).reshape(5,10)\n",
        "print(mat)\n",
        "#Ahora ver la matriz\n",
        "print(mat[2])\n",
        "#Ver la 3 fila\n",
        "print(mat[:,1])\n",
        "#Ver la 2 columna\n",
        "print(mat[2:,1:])\n",
        "#Muestra el array a partir de la 3 fila y 2 columna\n",
        "print(mat[3,4])\n",
        "#Muestra fila 5 en la columna 4\n",
        "print(mat[:3,1:2])\n",
        "#tres primeras filas de la 2 columna devuelve submatriz\n",
        "print(mat.sum())\n",
        "#Suma de los valores\n",
        "print(mat.std())\n",
        "#Desviación estandard\n",
        "print(mat.sum(axis=0))\n",
        "#Suma por columnas"
      ],
      "metadata": {
        "colab": {
          "base_uri": "https://localhost:8080/"
        },
        "id": "xs_smSKXT1Rb",
        "outputId": "4d9ffe1b-269d-4161-d0fc-cd3391f46082"
      },
      "execution_count": 68,
      "outputs": [
        {
          "output_type": "stream",
          "name": "stdout",
          "text": [
            "[[ 1  2  3  4  5  6  7  8  9 10]\n",
            " [11 12 13 14 15 16 17 18 19 20]\n",
            " [21 22 23 24 25 26 27 28 29 30]\n",
            " [31 32 33 34 35 36 37 38 39 40]\n",
            " [41 42 43 44 45 46 47 48 49 50]]\n",
            "[21 22 23 24 25 26 27 28 29 30]\n",
            "[ 2 12 22 32 42]\n",
            "[[22 23 24 25 26 27 28 29 30]\n",
            " [32 33 34 35 36 37 38 39 40]\n",
            " [42 43 44 45 46 47 48 49 50]]\n",
            "35\n",
            "[[ 2]\n",
            " [12]\n",
            " [22]]\n",
            "1275\n",
            "14.430869689661812\n",
            "[105 110 115 120 125 130 135 140 145 150]\n"
          ]
        }
      ]
    }
  ]
}