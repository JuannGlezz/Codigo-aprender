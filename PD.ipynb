{
  "nbformat": 4,
  "nbformat_minor": 0,
  "metadata": {
    "colab": {
      "provenance": [],
      "authorship_tag": "ABX9TyMRL/WPK6idxMRwvy5us9kz"
    },
    "kernelspec": {
      "name": "python3",
      "display_name": "Python 3"
    },
    "language_info": {
      "name": "python"
    }
  },
  "cells": [
    {
      "cell_type": "code",
      "execution_count": 24,
      "metadata": {
        "colab": {
          "base_uri": "https://localhost:8080/"
        },
        "id": "dvPLh0Nci-Gq",
        "outputId": "745928ee-d99b-4d2e-a753-a46db7456672"
      },
      "outputs": [
        {
          "output_type": "stream",
          "name": "stdout",
          "text": [
            "0    1\n",
            "1    3\n",
            "2    5\n",
            "3    6\n",
            "4    8\n",
            "dtype: int64\n"
          ]
        },
        {
          "output_type": "execute_result",
          "data": {
            "text/plain": [
              "count    5.000000\n",
              "mean     4.600000\n",
              "std      2.701851\n",
              "min      1.000000\n",
              "25%      3.000000\n",
              "50%      5.000000\n",
              "75%      6.000000\n",
              "max      8.000000\n",
              "dtype: float64"
            ]
          },
          "metadata": {},
          "execution_count": 24
        }
      ],
      "source": [
        "import pandas as pd\n",
        "import numpy as np\n",
        "s = pd.Series([1, 3, 5, 6, 8])\n",
        "print(s)\n",
        "#creo una serie de enteros y la muestro\n",
        "s.size\n",
        "#tamaño\n",
        "s.describe()\n",
        "#miramos las funciones matemáticas"
      ]
    },
    {
      "cell_type": "code",
      "source": [
        "serie1 = pd.Series([1, 2, 3, 4, 5])\n",
        "serie2 = pd.Series([9, 8, 7, 6, 5])\n",
        "print(serie1+serie2)\n",
        "#Sumamos las series\n",
        "print(serie2-serie1)\n",
        "#Restamos las series\n",
        "print(serie1*serie2)\n",
        "#Multiplicamos las series\n",
        "print(serie2/serie1)\n",
        "#Dividimos las series"
      ],
      "metadata": {
        "colab": {
          "base_uri": "https://localhost:8080/"
        },
        "id": "dtMfySfir7aL",
        "outputId": "d4c94b1e-417b-49d1-b4fd-4e442f23926f"
      },
      "execution_count": 34,
      "outputs": [
        {
          "output_type": "stream",
          "name": "stdout",
          "text": [
            "0    10\n",
            "1    10\n",
            "2    10\n",
            "3    10\n",
            "4    10\n",
            "dtype: int64\n",
            "0    8\n",
            "1    6\n",
            "2    4\n",
            "3    2\n",
            "4    0\n",
            "dtype: int64\n",
            "0     9\n",
            "1    16\n",
            "2    21\n",
            "3    24\n",
            "4    25\n",
            "dtype: int64\n",
            "0    9.000000\n",
            "1    4.000000\n",
            "2    2.333333\n",
            "3    1.500000\n",
            "4    1.000000\n",
            "dtype: float64\n"
          ]
        }
      ]
    },
    {
      "cell_type": "code",
      "source": [
        "serie1 = pd.Series([1, 2, 3, 5, 7])\n",
        "serie2 = pd.Series([13, 17, 11, 5, 3])\n",
        "print(serie1>serie2)\n",
        "#Muestra si serie 1 es mayor que serie 2 número a número\n",
        "print(serie1<serie2)\n",
        "#Lo contrario\n",
        "print(serie1==serie2)\n",
        "#Iguales"
      ],
      "metadata": {
        "colab": {
          "base_uri": "https://localhost:8080/"
        },
        "id": "tcYhOF1VtrH1",
        "outputId": "b43ce3e2-59a2-4499-c3be-27a2e7d8626e"
      },
      "execution_count": 38,
      "outputs": [
        {
          "output_type": "stream",
          "name": "stdout",
          "text": [
            "0    False\n",
            "1    False\n",
            "2    False\n",
            "3    False\n",
            "4     True\n",
            "dtype: bool\n",
            "0     True\n",
            "1     True\n",
            "2     True\n",
            "3    False\n",
            "4    False\n",
            "dtype: bool\n",
            "0    False\n",
            "1    False\n",
            "2    False\n",
            "3     True\n",
            "4    False\n",
            "dtype: bool\n"
          ]
        }
      ]
    },
    {
      "cell_type": "code",
      "source": [
        "datos={'a':30,'b':40,'c':80,'d':120}\n",
        "print(datos)\n",
        "serie=pd.Series(datos)\n",
        "#Convierte a serie los datos\n",
        "print(serie)\n",
        "#Muestro\n",
        "print(serie['b'])\n",
        "#Busco los datos de b"
      ],
      "metadata": {
        "colab": {
          "base_uri": "https://localhost:8080/"
        },
        "id": "UppglWT_uDnP",
        "outputId": "79384b8f-9daa-4a02-d595-54e748a88610"
      },
      "execution_count": 42,
      "outputs": [
        {
          "output_type": "stream",
          "name": "stdout",
          "text": [
            "{'a': 30, 'b': 40, 'c': 80, 'd': 120}\n",
            "a     30\n",
            "b     40\n",
            "c     80\n",
            "d    120\n",
            "dtype: int64\n"
          ]
        },
        {
          "output_type": "execute_result",
          "data": {
            "text/plain": [
              "40"
            ]
          },
          "metadata": {},
          "execution_count": 42
        }
      ]
    },
    {
      "cell_type": "code",
      "source": [
        "datos = pd.Series(['100', '200', 'python', '300.15', '500.8'])\n",
        "print(datos)\n",
        "datos = pd.to_numeric(datos,errors='coerce')\n",
        "#muestro en numérico\n",
        "print(datos)"
      ],
      "metadata": {
        "colab": {
          "base_uri": "https://localhost:8080/"
        },
        "id": "FDy6sT1Eugq3",
        "outputId": "7044794c-11ba-4126-a0d3-f1979cdafd21"
      },
      "execution_count": 45,
      "outputs": [
        {
          "output_type": "stream",
          "name": "stdout",
          "text": [
            "0       100\n",
            "1       200\n",
            "2    python\n",
            "3    300.15\n",
            "4     500.8\n",
            "dtype: object\n",
            "0    100.00\n",
            "1    200.00\n",
            "2       NaN\n",
            "3    300.15\n",
            "4    500.80\n",
            "dtype: float64\n"
          ]
        }
      ]
    },
    {
      "cell_type": "code",
      "source": [
        "datos = {'A': [1, 2, 3, 4, 5], 'B': [9, 8, 7, 6, 5], 'C': [2, 3, 5, 7, 11]}\n",
        "df = pd.DataFrame(data=datos)\n",
        "df.head()\n",
        "col=df.iloc[:,0]\n",
        "col.head()\n",
        "#Creo un dataframe con los datos y elijo la columna A\n",
        "#También vale con df['A']"
      ],
      "metadata": {
        "colab": {
          "base_uri": "https://localhost:8080/"
        },
        "id": "9IJndqjTv7jC",
        "outputId": "db275416-ad9a-4072-97f1-b75d4274b2d2"
      },
      "execution_count": 56,
      "outputs": [
        {
          "output_type": "execute_result",
          "data": {
            "text/plain": [
              "0    1\n",
              "1    2\n",
              "2    3\n",
              "3    4\n",
              "4    5\n",
              "Name: A, dtype: int64"
            ]
          },
          "metadata": {},
          "execution_count": 56
        }
      ]
    },
    {
      "cell_type": "code",
      "source": [
        "serie=['5','2','8','3','-1','3','a','c','b','e','z','f']\n",
        "serie = pd.Series(serie).sort_values()\n",
        "print(serie)\n",
        "#Creo serie y la ordeno\n",
        "suma = lambda x : x + 2\n",
        "print(suma(1))\n",
        "#Esto gratis para usar lambda"
      ],
      "metadata": {
        "colab": {
          "base_uri": "https://localhost:8080/"
        },
        "id": "eUL6TjeVv7bJ",
        "outputId": "c2490c94-d495-4455-fcae-1e17db7f0d2b"
      },
      "execution_count": 77,
      "outputs": [
        {
          "output_type": "stream",
          "name": "stdout",
          "text": [
            "4     -1\n",
            "1      2\n",
            "3      3\n",
            "5      3\n",
            "0      5\n",
            "2      8\n",
            "6      a\n",
            "8      b\n",
            "7      c\n",
            "9      e\n",
            "11     f\n",
            "10     z\n",
            "dtype: object\n",
            "3\n"
          ]
        }
      ]
    }
  ]
}