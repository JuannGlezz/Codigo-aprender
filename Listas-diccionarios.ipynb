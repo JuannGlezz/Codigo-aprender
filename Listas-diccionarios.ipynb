{
  "nbformat": 4,
  "nbformat_minor": 0,
  "metadata": {
    "colab": {
      "provenance": []
    },
    "kernelspec": {
      "name": "python3",
      "display_name": "Python 3"
    },
    "language_info": {
      "name": "python"
    }
  },
  "cells": [
    {
      "cell_type": "code",
      "execution_count": 1,
      "metadata": {
        "colab": {
          "base_uri": "https://localhost:8080/"
        },
        "id": "So1snkNa7y_8",
        "outputId": "8008b476-2b6e-448d-e19a-a39a8e6884c7"
      },
      "outputs": [
        {
          "output_type": "stream",
          "name": "stdout",
          "text": [
            "The Zen of Python, by Tim Peters\n",
            "\n",
            "Beautiful is better than ugly.\n",
            "Explicit is better than implicit.\n",
            "Simple is better than complex.\n",
            "Complex is better than complicated.\n",
            "Flat is better than nested.\n",
            "Sparse is better than dense.\n",
            "Readability counts.\n",
            "Special cases aren't special enough to break the rules.\n",
            "Although practicality beats purity.\n",
            "Errors should never pass silently.\n",
            "Unless explicitly silenced.\n",
            "In the face of ambiguity, refuse the temptation to guess.\n",
            "There should be one-- and preferably only one --obvious way to do it.\n",
            "Although that way may not be obvious at first unless you're Dutch.\n",
            "Now is better than never.\n",
            "Although never is often better than *right* now.\n",
            "If the implementation is hard to explain, it's a bad idea.\n",
            "If the implementation is easy to explain, it may be a good idea.\n",
            "Namespaces are one honking great idea -- let's do more of those!\n"
          ]
        }
      ],
      "source": [
        "import this\n"
      ]
    },
    {
      "cell_type": "code",
      "source": [
        "ciudades=[\"Roma\",\"España\",\"Rusia\",\"gonorrea\",\"yatusabe\"]\n",
        "print(ciudades)"
      ],
      "metadata": {
        "colab": {
          "base_uri": "https://localhost:8080/"
        },
        "id": "9Bj0U1RO8bm7",
        "outputId": "4fa9a7ba-41bc-45f7-a390-5469ed9c4837"
      },
      "execution_count": 3,
      "outputs": [
        {
          "output_type": "stream",
          "name": "stdout",
          "text": [
            "['Roma', 'España', 'Rusia', 'gonorrea', 'yatusabe']\n"
          ]
        }
      ]
    },
    {
      "cell_type": "code",
      "source": [
        "artci={\"Romeo\":\"Roma\",\"Estupido\":\"pitudo\"}\n",
        "print(artci)"
      ],
      "metadata": {
        "colab": {
          "base_uri": "https://localhost:8080/"
        },
        "id": "BQxGFXCA8pcR",
        "outputId": "a14409c1-5f92-44d3-fb64-863352f8e14e"
      },
      "execution_count": 6,
      "outputs": [
        {
          "output_type": "stream",
          "name": "stdout",
          "text": [
            "{'Romeo': 'Roma', 'Estupido': 'pitudo'}\n"
          ]
        }
      ]
    },
    {
      "cell_type": "code",
      "source": [
        "print(\"Estos son los conciertos para esta semana: \")\n",
        "artci={\"Romeo\":\"Roma\",\"Estupido\":\"pitudo\"}\n",
        "for artista,ciudad in artci.items():\n",
        "  print(\"{} en la ciudad de {}\".format(artista,ciudad))"
      ],
      "metadata": {
        "colab": {
          "base_uri": "https://localhost:8080/"
        },
        "id": "XI-LDwD39JxR",
        "outputId": "c7aeb7de-ea5d-49dd-e542-032004cc6df4"
      },
      "execution_count": 14,
      "outputs": [
        {
          "output_type": "stream",
          "name": "stdout",
          "text": [
            "Estos son los conciertos para esta semana: \n",
            "Romeo en la ciudad de Roma\n",
            "Estupido en la ciudad de pitudo\n"
          ]
        }
      ]
    },
    {
      "cell_type": "code",
      "source": [
        "artci={\"Romeo\":\"Roma\",\"Estupido\":\"pitudo\"}\n",
        "for artista,ciudad in artci.items():\n",
        "  ciudad=\"Bielorrusia\"\n",
        "  print(\"Artista {} en la ciudad de {}\".format(artista,ciudad))"
      ],
      "metadata": {
        "colab": {
          "base_uri": "https://localhost:8080/"
        },
        "id": "8wLCm0IJ-QZ4",
        "outputId": "71d59368-a37b-4e51-b149-b2fa759af73c"
      },
      "execution_count": 15,
      "outputs": [
        {
          "output_type": "stream",
          "name": "stdout",
          "text": [
            "Artista Romeo en la ciudad de Bielorrusia\n",
            "Artista Estupido en la ciudad de Bielorrusia\n"
          ]
        }
      ]
    },
    {
      "cell_type": "markdown",
      "source": [
        "**Texto en negrita**"
      ],
      "metadata": {
        "id": "EGBNjSx0_QFQ"
      }
    }
  ]
}