{
  "nbformat": 4,
  "nbformat_minor": 0,
  "metadata": {
    "colab": {
      "provenance": [],
      "authorship_tag": "ABX9TyN/9pk04vDr+c4zDDpLHRA8"
    },
    "kernelspec": {
      "name": "python3",
      "display_name": "Python 3"
    },
    "language_info": {
      "name": "python"
    }
  },
  "cells": [
    {
      "cell_type": "code",
      "execution_count": 23,
      "metadata": {
        "colab": {
          "base_uri": "https://localhost:8080/"
        },
        "id": "VwedcIpqkzPD",
        "outputId": "5089af6c-e642-4ba7-e8b6-95cbdf225931"
      },
      "outputs": [
        {
          "output_type": "stream",
          "name": "stdout",
          "text": [
            "(60000, 28, 28, 1)\n",
            "(10000, 28, 28, 1)\n",
            "(60000, 10)\n",
            "(10000, 10)\n"
          ]
        }
      ],
      "source": [
        "import numpy as np\n",
        "import keras\n",
        "from keras import layers\n",
        "(x_train, y_train),(x_test,y_test)=keras.datasets.mnist.load_data()\n",
        "x_train=x_train.astype(\"float32\") / 255\n",
        "x_test=x_test.astype(\"float32\") / 255\n",
        "x_train = np.expand_dims(x_train, -1)\n",
        "x_test = np.expand_dims(x_test, -1)\n",
        "#Convertimos a escala de grises\n",
        "print(x_train.shape)\n",
        "#60000,28,28,1\n",
        "print(x_test.shape)\n",
        "#10000,28,28,1\n",
        "input_shape = (28, 28, 1)\n",
        "y_train=keras.utils.to_categorical(y_train,10)\n",
        "y_test=keras.utils.to_categorical(y_test,10)\n",
        "#convertimos a one hot\n",
        "print(y_train.shape)\n",
        "#60000,10\n",
        "print(y_test.shape)\n",
        "#10000,10\n"
      ]
    },
    {
      "cell_type": "code",
      "source": [
        "model=keras.Sequential([\n",
        "    keras.Input(shape=input_shape),\n",
        "    #Hay que poner las capas que tiene el modelo que son 28x28 píxeles y 1 capa para escala de grises\n",
        "    layers.Conv2D(32,kernel_size=(3,3),activation=\"relu\"),\n",
        "    layers.MaxPooling2D(pool_size=(2,2)),\n",
        "    #Hacemos una capa convoluciona 2D de 32 mapas de 3x3 con activación relu y un maxpooling para reducir a 2x2\n",
        "    layers.Conv2D(64,kernel_size=(3,3),activation=\"relu\"),\n",
        "    layers.MaxPooling2D(pool_size=(2,2)),\n",
        "    #Aquí igual pero en 64 mapas\n",
        "    layers.Flatten(),\n",
        "    #Aplanamos los resultados\n",
        "    layers.Dense(10,activation=\"softmax\")\n",
        "    #Hacemos una capa de salida de 10 porque hay 10 tipos y activación softmax\n",
        "])\n",
        "model.summary()\n",
        "#Aquí vemos que todos los parámetros son entrenables y el tamaño de la salida y como cambian los datos a la salida (las capas max-pooling reducen a la mitad el ancho y el alto de la entrada)"
      ],
      "metadata": {
        "colab": {
          "base_uri": "https://localhost:8080/"
        },
        "id": "GLFq7axumXTs",
        "outputId": "bd039a88-3547-4c02-9501-db29b286de68"
      },
      "execution_count": 24,
      "outputs": [
        {
          "output_type": "stream",
          "name": "stdout",
          "text": [
            "Model: \"sequential_3\"\n",
            "_________________________________________________________________\n",
            " Layer (type)                Output Shape              Param #   \n",
            "=================================================================\n",
            " conv2d_12 (Conv2D)          (None, 26, 26, 32)        320       \n",
            "                                                                 \n",
            " max_pooling2d_10 (MaxPooli  (None, 13, 13, 32)        0         \n",
            " ng2D)                                                           \n",
            "                                                                 \n",
            " conv2d_13 (Conv2D)          (None, 11, 11, 64)        18496     \n",
            "                                                                 \n",
            " max_pooling2d_11 (MaxPooli  (None, 5, 5, 64)          0         \n",
            " ng2D)                                                           \n",
            "                                                                 \n",
            " flatten_5 (Flatten)         (None, 1600)              0         \n",
            "                                                                 \n",
            " dense_3 (Dense)             (None, 10)                16010     \n",
            "                                                                 \n",
            "=================================================================\n",
            "Total params: 34826 (136.04 KB)\n",
            "Trainable params: 34826 (136.04 KB)\n",
            "Non-trainable params: 0 (0.00 Byte)\n",
            "_________________________________________________________________\n"
          ]
        }
      ]
    },
    {
      "cell_type": "code",
      "source": [
        "#Compilamos el modelo\n",
        "model.compile(loss=\"categorical_crossentropy\",optimizer=\"adam\",metrics=[\"accuracy\"])\n",
        "model.fit(x_train,y_train,epochs=15)\n",
        "#Tiene 15 epochs por ambicioso por acercarme al 100%, pero con 5 ya tenemos un 99% de acierto"
      ],
      "metadata": {
        "colab": {
          "base_uri": "https://localhost:8080/"
        },
        "id": "7Zf944TWrCdD",
        "outputId": "0a61bfe0-794a-4f03-bdb6-7018a53aacae"
      },
      "execution_count": 25,
      "outputs": [
        {
          "output_type": "stream",
          "name": "stdout",
          "text": [
            "Epoch 1/15\n",
            "1875/1875 [==============================] - 52s 27ms/step - loss: 0.1617 - accuracy: 0.9512\n",
            "Epoch 2/15\n",
            "1875/1875 [==============================] - 45s 24ms/step - loss: 0.0575 - accuracy: 0.9825\n",
            "Epoch 3/15\n",
            "1875/1875 [==============================] - 46s 25ms/step - loss: 0.0414 - accuracy: 0.9869\n",
            "Epoch 4/15\n",
            "1875/1875 [==============================] - 44s 24ms/step - loss: 0.0317 - accuracy: 0.9900\n",
            "Epoch 5/15\n",
            "1875/1875 [==============================] - 46s 24ms/step - loss: 0.0247 - accuracy: 0.9923\n",
            "Epoch 6/15\n",
            "1875/1875 [==============================] - 44s 24ms/step - loss: 0.0197 - accuracy: 0.9937\n",
            "Epoch 7/15\n",
            "1875/1875 [==============================] - 45s 24ms/step - loss: 0.0160 - accuracy: 0.9948\n",
            "Epoch 8/15\n",
            "1875/1875 [==============================] - 45s 24ms/step - loss: 0.0127 - accuracy: 0.9958\n",
            "Epoch 9/15\n",
            "1875/1875 [==============================] - 45s 24ms/step - loss: 0.0109 - accuracy: 0.9962\n",
            "Epoch 10/15\n",
            "1875/1875 [==============================] - 44s 24ms/step - loss: 0.0082 - accuracy: 0.9974\n",
            "Epoch 11/15\n",
            "1875/1875 [==============================] - 45s 24ms/step - loss: 0.0076 - accuracy: 0.9975\n",
            "Epoch 12/15\n",
            "1875/1875 [==============================] - 44s 24ms/step - loss: 0.0064 - accuracy: 0.9980\n",
            "Epoch 13/15\n",
            "1875/1875 [==============================] - 46s 25ms/step - loss: 0.0051 - accuracy: 0.9981\n",
            "Epoch 14/15\n",
            "1875/1875 [==============================] - 44s 24ms/step - loss: 0.0049 - accuracy: 0.9984\n",
            "Epoch 15/15\n",
            "1875/1875 [==============================] - 45s 24ms/step - loss: 0.0047 - accuracy: 0.9984\n"
          ]
        },
        {
          "output_type": "execute_result",
          "data": {
            "text/plain": [
              "<keras.src.callbacks.History at 0x78b4f070dfc0>"
            ]
          },
          "metadata": {},
          "execution_count": 25
        }
      ]
    }
  ]
}